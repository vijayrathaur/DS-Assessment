{
 "cells": [
  {
   "cell_type": "markdown",
   "id": "6d981cd4-b194-4adc-88a8-8b8f9f632f1c",
   "metadata": {},
   "source": [
    "Q1. What are the characteristics of the tuples? Is tuple immutable?"
   ]
  },
  {
   "cell_type": "markdown",
   "id": "554bbf8f-d9bb-4687-b3c8-8c352279210f",
   "metadata": {},
   "source": [
    "A tuple is an ordered collection of elements, which can be of any data type, such as integers, floats, strings, or even other tuples. The characteristics of tuples include:\n",
    "\n",
    "Ordered: The elements in a tuple are stored in a specific order and can be accessed by their index.\n",
    "\n",
    "Immutable: Once a tuple is created, its elements cannot be changed. This means that tuples are immutable.\n",
    "\n",
    "Heterogeneous: Tuples can contain elements of different data types.\n",
    "\n",
    "Indexed: The elements in a tuple can be accessed using an index, starting from 0 for the first element.\n",
    "\n",
    "Nested: Tuples can contain other tuples as elements.\n",
    "\n",
    "Yes, tuples are immutable. Once a tuple is created, its elements cannot be modified, added, or removed. If you need to modify a tuple, you would need to create a new tuple with the updated values. This is different from lists, which are mutable and allow you to modify their contents."
   ]
  },
  {
   "cell_type": "markdown",
   "id": "e967fc3e-32fa-4f10-a896-645fd7b6e8f5",
   "metadata": {},
   "source": [
    "Q2. What are the two tuple methods in python? Give an example of each method. Give a reason why\n",
    "tuples have only two in-built methods as compared to Lists."
   ]
  },
  {
   "cell_type": "markdown",
   "id": "8691bb85-3992-4fdc-9bc1-b1dccc173b72",
   "metadata": {},
   "source": [
    "The two tuple methods in Python are:\n",
    "\n",
    " 1. count(): This method returns the number of times a specified element appears in the tuple.\n",
    "Example:"
   ]
  },
  {
   "cell_type": "code",
   "execution_count": 2,
   "id": "dcf78356-669c-46c1-b030-0f45bbcd5fd7",
   "metadata": {},
   "outputs": [
    {
     "name": "stdout",
     "output_type": "stream",
     "text": [
      "3\n"
     ]
    }
   ],
   "source": [
    "my_tuple = (1, 2, 3, 1, 4, 1)\n",
    "count_of_ones = my_tuple.count(1)\n",
    "print(count_of_ones)\n"
   ]
  },
  {
   "cell_type": "markdown",
   "id": "05904bff-4259-43ae-9286-36ac345ca897",
   "metadata": {},
   "source": [
    "2. index(): This method returns the index of the first occurrence of a specified element in the tuple.\n",
    "Example:"
   ]
  },
  {
   "cell_type": "code",
   "execution_count": 3,
   "id": "1e3ac12f-a91a-4f03-8572-cd08594ead4f",
   "metadata": {},
   "outputs": [
    {
     "name": "stdout",
     "output_type": "stream",
     "text": [
      "4\n"
     ]
    }
   ],
   "source": [
    "my_tuple = (1, 2, 3, 1, 4, 1)\n",
    "index_of_four = my_tuple.index(4)\n",
    "print(index_of_four)\n"
   ]
  },
  {
   "cell_type": "markdown",
   "id": "994677b1-6b44-48af-8162-301eedd739a6",
   "metadata": {},
   "source": [
    "The reason why tuples have only two in-built methods compared to lists is that tuples are immutable, and modifying them is not allowed. Therefore, methods that allow for modification, such as append(), remove(), and sort(), are not applicable to tuples. The two methods provided for tuples allow for querying information from the tuple without modifying its contents. On the other hand, lists have more in-built methods as they are mutable and allow for modification of their contents."
   ]
  },
  {
   "cell_type": "markdown",
   "id": "7130188c-3a89-48c0-9fa5-0e2164ccd753",
   "metadata": {},
   "source": [
    "Q3. Which collection datatypes in python do not allow duplicate items? Write a code using a set to remove\n",
    "duplicates from the given list.\n",
    "List = [1, 1, 1, 2, 1, 3, 1, 4, 2, 1, 2, 2, 2, 3, 2, 4, 3, 1, 3, 2, 3, 3, 3, 4, 4, 1, 4, 2, 4, 3, 4, 4]"
   ]
  },
  {
   "cell_type": "markdown",
   "id": "122d62ee-3b45-4df5-94db-b5257999920b",
   "metadata": {},
   "source": [
    "The collection datatype in Python that does not allow duplicate items is a Set.\n",
    "\n",
    "Here's how you can remove duplicates from the given list using a set:"
   ]
  },
  {
   "cell_type": "code",
   "execution_count": 5,
   "id": "4fa4e191-2a1b-4ae9-ac21-e67b83d6166a",
   "metadata": {},
   "outputs": [
    {
     "name": "stdout",
     "output_type": "stream",
     "text": [
      "[1, 2, 3, 4]\n"
     ]
    }
   ],
   "source": [
    "lst = [1, 1, 1, 2, 1, 3, 1, 4, 2, 1, 2, 2, 2, 3, 2, 4, 3, 1, 3, 2, 3, 3, 3, 4, 4, 1, 4, 2, 4, 3, 4, 4]\n",
    "\n",
    "# Create a set from the list\n",
    "unique_items = set(lst)\n",
    "\n",
    "# Convert the set back to a list\n",
    "new_lst = list(unique_items)\n",
    "\n",
    "print(new_lst)\n"
   ]
  },
  {
   "cell_type": "markdown",
   "id": "91c0036f-ace2-4316-af20-b870768e8469",
   "metadata": {},
   "source": [
    "Q4. Explain the difference between the union() and update() methods for a set. Give an example of\n",
    "each method."
   ]
  },
  {
   "cell_type": "markdown",
   "id": "81878ad7-cc43-49a1-9297-5e83b4295d79",
   "metadata": {},
   "source": [
    "Both union() and update() methods are used to combine two or more sets in Python, but they differ in how they modify the original set.\n",
    "\n",
    "The union() method returns a new set that contains all the unique elements from the original set and the set(s) passed as an argument. It does not modify the original set.\n",
    "\n",
    "Example:"
   ]
  },
  {
   "cell_type": "code",
   "execution_count": 7,
   "id": "e723fb2c-834e-40cf-98fe-161547b7fc8a",
   "metadata": {},
   "outputs": [
    {
     "name": "stdout",
     "output_type": "stream",
     "text": [
      "{1, 2, 3, 4, 5}\n",
      "{1, 2, 3}\n"
     ]
    }
   ],
   "source": [
    "set1 = {1, 2, 3}\n",
    "set2 = {3, 4, 5}\n",
    "\n",
    "# Union of set1 and set2\n",
    "set3 = set1.union(set2)\n",
    "\n",
    "print(set3)   # Output: {1, 2, 3, 4, 5}\n",
    "print(set1)   # Output: {1, 2, 3} (original set1 remains unchanged)\n"
   ]
  },
  {
   "cell_type": "markdown",
   "id": "e1ebb609-9712-4052-b8c4-74b6e637b607",
   "metadata": {},
   "source": [
    "The update() method modifies the original set by adding all the unique elements from the set(s) passed as an argument to the original set.\n",
    "\n",
    "Example:"
   ]
  },
  {
   "cell_type": "code",
   "execution_count": 9,
   "id": "b5935268-faa1-47aa-aac0-40ae14184659",
   "metadata": {},
   "outputs": [
    {
     "name": "stdout",
     "output_type": "stream",
     "text": [
      "{1, 2, 3, 4, 5}\n"
     ]
    }
   ],
   "source": [
    "set1 = {1, 2, 3}\n",
    "set2 = {3, 4, 5}\n",
    "\n",
    "# Update set1 with set2\n",
    "set1.update(set2)\n",
    "\n",
    "print(set1)   # Output: {1, 2, 3, 4, 5} (original set1 is modified)\n"
   ]
  },
  {
   "cell_type": "markdown",
   "id": "be46bb07-2c77-4582-94db-e9b7fe3d528c",
   "metadata": {},
   "source": [
    "So, the main difference between union() and update() is that union() returns a new set without modifying the original set, while update() modifies the original set by adding new elements.\n",
    "\n",
    "It's also worth noting that you can use the union operator | to achieve the same result as the union() method, and the update operator |= to achieve the same result as the update() method."
   ]
  },
  {
   "cell_type": "markdown",
   "id": "b6c7e259-feb9-486f-90a1-e4db974c906e",
   "metadata": {},
   "source": [
    "Q5. What is a dictionary? Give an example. Also, state whether a dictionary is ordered or unordered."
   ]
  },
  {
   "cell_type": "markdown",
   "id": "0bbd9883-0ad1-4b73-9356-d7990fc87b77",
   "metadata": {},
   "source": [
    "A dictionary is a collection of key-value pairs that allows you to store and retrieve data efficiently. A key-value pair in a dictionary is also known as an item, and the keys in a dictionary must be unique and immutable (e.g., strings, numbers, or tuples), while the values can be any data type (e.g., strings, numbers, lists, sets, or even other dictionaries).\n",
    "\n",
    "Here's an example of a dictionary in Python:"
   ]
  },
  {
   "cell_type": "code",
   "execution_count": 11,
   "id": "398f57a2-eb3a-4d7c-a5a5-1e9f386993e1",
   "metadata": {},
   "outputs": [
    {
     "name": "stdout",
     "output_type": "stream",
     "text": [
      "John\n",
      "30\n",
      "New York\n"
     ]
    }
   ],
   "source": [
    "person = {\"name\": \"John\", \"age\": 30, \"city\": \"New York\"}\n",
    "\n",
    "print(person[\"name\"])   # Output: John\n",
    "print(person[\"age\"])    # Output: 30\n",
    "print(person[\"city\"])   # Output: New York\n"
   ]
  },
  {
   "cell_type": "markdown",
   "id": "4991a403-4f96-48d5-be45-312a53740867",
   "metadata": {},
   "source": [
    "In this example, person is a dictionary that contains three key-value pairs, where \"name\", \"age\", and \"city\" are the keys, and \"John\", 30, and \"New York\" are the corresponding values.\n",
    "\n",
    "A dictionary in Python is an unordered collection, which means that the order of the items in a dictionary is not guaranteed to be the same as the order in which they were added. This is because dictionaries are implemented as hash tables, which are optimized for fast lookup and insertion of key-value pairs, rather than for preserving the order of the items. If you need to preserve the order of the items in a dictionary, you can use the collections.OrderedDict class instead."
   ]
  },
  {
   "cell_type": "markdown",
   "id": "d724c9f4-538e-40dc-b185-ff5ca99f5d79",
   "metadata": {},
   "source": [
    "Q6. Can we create a nested dictionary? If so, please give an example by creating a simple one-level\n",
    "nested dictionary."
   ]
  },
  {
   "cell_type": "markdown",
   "id": "1c5452e1-bf68-47d3-878a-51f6a036fa0b",
   "metadata": {},
   "source": [
    "Yes, we can create a nested dictionary in Python. A nested dictionary is a dictionary that contains one or more dictionaries as its values. These inner dictionaries can themselves contain other dictionaries, or other data types such as lists, tuples, or sets, as their values.\n",
    "\n",
    "Here's an example of a simple one-level nested dictionary in Python:"
   ]
  },
  {
   "cell_type": "code",
   "execution_count": 13,
   "id": "4240d8f3-7441-4a71-94d2-b74a800e0b58",
   "metadata": {},
   "outputs": [
    {
     "name": "stdout",
     "output_type": "stream",
     "text": [
      "John\n",
      "New York\n"
     ]
    }
   ],
   "source": [
    "person = {\n",
    "    \"name\": \"John\",\n",
    "    \"age\": 30,\n",
    "    \"address\": {\n",
    "        \"street\": \"123 Main St\",\n",
    "        \"city\": \"New York\",\n",
    "        \"state\": \"NY\",\n",
    "        \"zip\": \"10001\"\n",
    "    }\n",
    "}\n",
    "\n",
    "print(person[\"name\"])              # Output: John\n",
    "print(person[\"address\"][\"city\"])   # Output: New York\n"
   ]
  },
  {
   "cell_type": "markdown",
   "id": "6167b1f8-ecf1-45f8-a669-7c26fef3fea8",
   "metadata": {},
   "source": [
    "In this example, person is a dictionary that contains three key-value pairs, where \"name\", \"age\", and \"address\" are the keys, and \"John\", 30, and the inner dictionary are the corresponding values. The inner dictionary, person[\"address\"], contains four key-value pairs, where \"street\", \"city\", \"state\", and \"zip\" are the keys, and \"123 Main St\", \"New York\", \"NY\", and \"10001\" are the corresponding values.\n",
    "\n",
    "We can access the values of the inner dictionary by using the corresponding keys and nested indexing notation, such as person[\"address\"][\"city\"], which returns the value \"New York\"."
   ]
  },
  {
   "cell_type": "markdown",
   "id": "56257139-6f1e-4bfd-a12f-feecf2f86b53",
   "metadata": {},
   "source": [
    "Q7. Using setdefault() method, create key named topics in the given dictionary and also add the value of\n",
    "the key as this list ['Python', 'Machine Learning’, 'Deep Learning']"
   ]
  },
  {
   "cell_type": "markdown",
   "id": "a73b19e0-4244-406a-b684-607931fc4bd6",
   "metadata": {},
   "source": [
    "We can use the setdefault() method to create a new key topics in the dictionary dict1 and set its value as ['Python', 'Machine Learning’, 'Deep Learning']:"
   ]
  },
  {
   "cell_type": "code",
   "execution_count": 2,
   "id": "72a7f829-28e0-46e6-afa2-e568ec68063a",
   "metadata": {},
   "outputs": [
    {
     "data": {
      "text/plain": [
       "['Python', 'Machine Learning', 'Deep Learning']"
      ]
     },
     "execution_count": 2,
     "metadata": {},
     "output_type": "execute_result"
    }
   ],
   "source": [
    "dict1 = {'language' : 'Python', 'course': 'Data Science Masters'}\n",
    "dict1.setdefault('topics', ['Python', 'Machine Learning', 'Deep Learning'])\n"
   ]
  },
  {
   "cell_type": "markdown",
   "id": "4d611d58-fd46-495a-b3a2-77707452f373",
   "metadata": {},
   "source": [
    "The setdefault() method takes two arguments: the first argument is the key that you want to set, and the second argument is the value that you want to assign to the key. If the key already exists in the dictionary, the setdefault() method will return its value. If the key does not exist in the dictionary, the setdefault() method will add the key with the specified value to the dictionary.\n",
    "\n",
    "In this case, since topics key does not exist in the dictionary dict1, the setdefault() method will add the key topics with the value ['Python', 'Machine Learning’, 'Deep Learning'] to the dictionary dict1. The updated dictionary dict1 will look like:"
   ]
  },
  {
   "cell_type": "code",
   "execution_count": 4,
   "id": "d0ca1261-34ba-4cb5-8bbe-c4da9834644b",
   "metadata": {},
   "outputs": [
    {
     "data": {
      "text/plain": [
       "{'language': 'Python',\n",
       " 'course': 'Data Science Masters',\n",
       " 'topics': ['Python', 'Machine Learning', 'Deep Learning']}"
      ]
     },
     "execution_count": 4,
     "metadata": {},
     "output_type": "execute_result"
    }
   ],
   "source": [
    "{'language': 'Python', 'course': 'Data Science Masters', 'topics': ['Python', 'Machine Learning', 'Deep Learning']}\n"
   ]
  },
  {
   "cell_type": "markdown",
   "id": "d7b0f10c-94e0-490c-8e1e-965e71940b87",
   "metadata": {},
   "source": [
    "Q8. What are the three view objects in dictionaries? Use the three in-built methods in python to display\n",
    "these three view objects for the given dictionary.\n",
    "dict1 = {'Sport': 'Cricket' , 'Teams': ['India', 'Australia', 'England', 'South Africa', 'Sri Lanka', 'New Zealand']}"
   ]
  },
  {
   "cell_type": "markdown",
   "id": "2d7a8ce9-11ac-4eaa-8c04-416918766f6b",
   "metadata": {},
   "source": [
    "There are three view objects associated with a dictionary that provide a dynamic view of the dictionary's keys, values, and key-value pairs. These view objects are:\n",
    "\n",
    "dict_keys: This view object provides a dynamic view of the dictionary's keys.\n",
    "dict_values: This view object provides a dynamic view of the dictionary's values.\n",
    "dict_items: This view object provides a dynamic view of the dictionary's key-value pairs.\n",
    "Here's how you can use the three in-built methods in Python to display these view objects for the given dictionary dict1:"
   ]
  },
  {
   "cell_type": "code",
   "execution_count": 7,
   "id": "bdb599f2-a55c-482a-aefe-c34bd6342801",
   "metadata": {},
   "outputs": [
    {
     "name": "stdout",
     "output_type": "stream",
     "text": [
      "dict_keys(['Sport', 'Teams'])\n",
      "dict_values(['Cricket', ['India', 'Australia', 'England', 'South Africa', 'Sri Lanka', 'New Zealand']])\n",
      "dict_items([('Sport', 'Cricket'), ('Teams', ['India', 'Australia', 'England', 'South Africa', 'Sri Lanka', 'New Zealand'])])\n"
     ]
    }
   ],
   "source": [
    "dict1 = {'Sport': 'Cricket', 'Teams': ['India', 'Australia', 'England', 'South Africa', 'Sri Lanka', 'New Zealand']}\n",
    "\n",
    "# Display dict_keys view object\n",
    "print(dict1.keys())\n",
    "\n",
    "# Display dict_values view object\n",
    "print(dict1.values())\n",
    "\n",
    "# Display dict_items view object\n",
    "print(dict1.items())\n"
   ]
  },
  {
   "cell_type": "markdown",
   "id": "72c93b7e-5a83-49a8-b312-13d799258a39",
   "metadata": {},
   "source": [
    "Note that all three view objects provide a dynamic view of the dictionary, which means that any changes made to the dictionary will be reflected in the view objects as well."
   ]
  }
 ],
 "metadata": {
  "kernelspec": {
   "display_name": "Python 3 (ipykernel)",
   "language": "python",
   "name": "python3"
  },
  "language_info": {
   "codemirror_mode": {
    "name": "ipython",
    "version": 3
   },
   "file_extension": ".py",
   "mimetype": "text/x-python",
   "name": "python",
   "nbconvert_exporter": "python",
   "pygments_lexer": "ipython3",
   "version": "3.10.8"
  }
 },
 "nbformat": 4,
 "nbformat_minor": 5
}
