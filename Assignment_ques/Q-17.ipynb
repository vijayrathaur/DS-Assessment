{
 "cells": [
  {
   "cell_type": "markdown",
   "id": "b5607864-0277-4762-9d26-1d2e0d6f358e",
   "metadata": {},
   "source": [
    "17. Write a function that takes a list of numbers as input and returns a new list containing only the even numbers from the input list. Use list comprehension to solve this problem.\n"
   ]
  },
  {
   "cell_type": "code",
   "execution_count": 1,
   "id": "10423cfd-a88c-4548-a52d-ae44f66688f1",
   "metadata": {},
   "outputs": [],
   "source": [
    "def get_even_numbers(numbers):\n",
    "    return [num for num in numbers if num % 2 == 0]\n"
   ]
  },
  {
   "cell_type": "code",
   "execution_count": 3,
   "id": "de80f79c-c73f-416b-a59c-088752c8a7a8",
   "metadata": {},
   "outputs": [
    {
     "name": "stdout",
     "output_type": "stream",
     "text": [
      "[14, 2, 4, 58, 6, 70, 8, 10]\n"
     ]
    }
   ],
   "source": [
    "numbers = [14, 2, 37, 4, 58, 6, 70, 8, 9, 10]\n",
    "even_numbers = get_even_numbers(numbers)\n",
    "print(even_numbers)\n"
   ]
  },
  {
   "cell_type": "code",
   "execution_count": null,
   "id": "b06db2fb-5006-43e3-bd80-40cee26b1791",
   "metadata": {},
   "outputs": [],
   "source": []
  }
 ],
 "metadata": {
  "kernelspec": {
   "display_name": "Python 3 (ipykernel)",
   "language": "python",
   "name": "python3"
  },
  "language_info": {
   "codemirror_mode": {
    "name": "ipython",
    "version": 3
   },
   "file_extension": ".py",
   "mimetype": "text/x-python",
   "name": "python",
   "nbconvert_exporter": "python",
   "pygments_lexer": "ipython3",
   "version": "3.10.8"
  }
 },
 "nbformat": 4,
 "nbformat_minor": 5
}
