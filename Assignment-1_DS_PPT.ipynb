{
 "cells": [
  {
   "cell_type": "markdown",
   "id": "e9b44094-2863-4fa1-8084-b1a6e7f6e131",
   "metadata": {},
   "source": [
    "1. Write a Python program to reverse a string without using any built-in string reversal functions."
   ]
  },
  {
   "cell_type": "code",
   "execution_count": 2,
   "id": "b9478953-05e7-4685-8404-a5bc5df822ad",
   "metadata": {},
   "outputs": [],
   "source": [
    "def reverse_string(input_str):\n",
    "    reversed_str = \"\"\n",
    "    for i in range(len(input_str) - 1, -1, -1):\n",
    "        reversed_str += input_str[i]\n",
    "    return reversed_str"
   ]
  },
  {
   "cell_type": "markdown",
   "id": "7cf15f94-9389-447b-bc54-439ec17a67ea",
   "metadata": {},
   "source": [
    "2. Implement a function to check if a given string is a palindrome.\n"
   ]
  },
  {
   "cell_type": "code",
   "execution_count": 3,
   "id": "6832787b-915f-47a6-b0a1-9625caf88c4e",
   "metadata": {},
   "outputs": [],
   "source": [
    "def is_palindrome(input_str):\n",
    "    # Remove non-alphanumeric characters and convert to lowercase\n",
    "    input_str = ''.join(c.lower() for c in input_str if c.isalnum())\n",
    "    # Check if the string is equal to its reverse\n",
    "    return input_str == input_str[::-1]"
   ]
  },
  {
   "cell_type": "markdown",
   "id": "cf32fb08-88c4-4f02-b70a-86d58dd3d95a",
   "metadata": {},
   "source": [
    "3. Write a program to find the largest element in a given list."
   ]
  },
  {
   "cell_type": "code",
   "execution_count": 6,
   "id": "ed51f637-4d3d-4237-a6b2-0b30cc8d58e9",
   "metadata": {},
   "outputs": [],
   "source": [
    "def find_largest_element(lst):\n",
    "    if not lst:\n",
    "        return None  # Return None for an empty list\n",
    "    largest = lst[0]  # Assume the first element is the largest\n",
    "    for element in lst:\n",
    "        if element > largest:\n",
    "            largest = element\n",
    "    return largest"
   ]
  },
  {
   "cell_type": "markdown",
   "id": "35ee410e-f52b-4bb4-88b8-042d9a397f48",
   "metadata": {},
   "source": [
    "4. Implement a function to count the occurrence of each element in a list."
   ]
  },
  {
   "cell_type": "code",
   "execution_count": 8,
   "id": "32fa1511-a341-46db-81fa-1c931c70f661",
   "metadata": {},
   "outputs": [],
   "source": [
    "def count_occurrences(lst):\n",
    "    occurrences = {}\n",
    "    for element in lst:\n",
    "        if element in occurrences:\n",
    "            occurrences[element] += 1\n",
    "        else:\n",
    "            occurrences[element] = 1\n",
    "    return occurrences"
   ]
  },
  {
   "cell_type": "markdown",
   "id": "03cb04d8-456d-415f-b040-69ef8efda24a",
   "metadata": {},
   "source": [
    "5. Write a Python program to find the second largest number in a list."
   ]
  },
  {
   "cell_type": "code",
   "execution_count": 9,
   "id": "7f53d052-702c-4653-87c2-976d0016de3d",
   "metadata": {},
   "outputs": [],
   "source": [
    "def find_second_largest(lst):\n",
    "    if len(lst) < 2:\n",
    "        return None  # Return None if the list has less than 2 elements\n",
    "    largest = max(lst[0], lst[1])\n",
    "    second_largest = min(lst[0], lst[1])\n",
    "    for i in range(2, len(lst)):\n",
    "        if lst[i] > largest:\n",
    "            second_largest = largest\n",
    "            largest = lst[i]\n",
    "        elif lst[i] > second_largest:\n",
    "            second_largest = lst[i]\n",
    "    return second_largest"
   ]
  },
  {
   "cell_type": "markdown",
   "id": "77d6dbb6-a593-4d99-996d-05f8a43c4ddd",
   "metadata": {},
   "source": [
    "6. Implement a function to remove duplicate elements from a list."
   ]
  },
  {
   "cell_type": "code",
   "execution_count": 10,
   "id": "f45a6f82-7f1f-4255-b633-044c4aeb2f02",
   "metadata": {},
   "outputs": [],
   "source": [
    "def remove_duplicates(lst):\n",
    "    seen = set()\n",
    "    unique_list = []\n",
    "    for element in lst:\n",
    "        if element not in seen:\n",
    "            seen.add(element)\n",
    "            unique_list.append(element)\n",
    "    return unique_list"
   ]
  },
  {
   "cell_type": "markdown",
   "id": "74695978-75f1-45ce-855c-8b81500837ca",
   "metadata": {},
   "source": [
    "7. Write a program to calculate the factorial of a given number."
   ]
  },
  {
   "cell_type": "code",
   "execution_count": 11,
   "id": "fa45cc1d-f46f-4c5d-b6c2-f9c6d9c8f16b",
   "metadata": {},
   "outputs": [],
   "source": [
    "def factorial(n):\n",
    "    if n < 0:\n",
    "        return None  # Return None for negative numbers\n",
    "    elif n == 0 or n == 1:\n",
    "        return 1  # Base case: factorial of 0 and 1 is 1\n",
    "    else:\n",
    "        result = 1\n",
    "        for i in range(2, n + 1):\n",
    "            result *= i\n",
    "        return result"
   ]
  },
  {
   "cell_type": "markdown",
   "id": "0f5ead48-7d89-4a3a-bb52-a2050356cd69",
   "metadata": {},
   "source": [
    "8. Implement a function to check if a given number is prime."
   ]
  },
  {
   "cell_type": "code",
   "execution_count": 12,
   "id": "9d89dadf-3774-4128-9435-98920365449b",
   "metadata": {},
   "outputs": [],
   "source": [
    "def is_prime(n):\n",
    "    if n < 2:\n",
    "        return False  # Numbers less than 2 are not prime\n",
    "\n",
    "    # Check for divisibility from 2 to the square root of n\n",
    "    for i in range(2, int(n**0.5) + 1):\n",
    "        if n % i == 0:\n",
    "            return False  # Found a divisor, number is not prime\n",
    "\n",
    "    return True"
   ]
  },
  {
   "cell_type": "markdown",
   "id": "219d5f3a-88ef-425b-9d3f-574bd9a53881",
   "metadata": {},
   "source": [
    "9. Write a Python program to sort a list of integers in ascending order."
   ]
  },
  {
   "cell_type": "code",
   "execution_count": 13,
   "id": "26e994d2-bc98-44ef-883b-6a06fd697169",
   "metadata": {},
   "outputs": [],
   "source": [
    "def sort_list(lst):\n",
    "    sorted_list = lst[:]  # Create a copy of the original list\n",
    "    sorted_list.sort()    # Sort the copy in ascending order\n",
    "    return sorted_list"
   ]
  },
  {
   "cell_type": "markdown",
   "id": "ff524bb3-b4b8-4a2d-b46f-8ecbf83ef58d",
   "metadata": {},
   "source": [
    "10. Implement a function to find the sum of all numbers in a list."
   ]
  },
  {
   "cell_type": "code",
   "execution_count": 14,
   "id": "8fc5dd11-7a0d-4a3e-9a3c-afc50790a46d",
   "metadata": {},
   "outputs": [],
   "source": [
    "def find_sum(lst):\n",
    "    total = 0\n",
    "    for number in lst:\n",
    "        total += number\n",
    "    return total"
   ]
  },
  {
   "cell_type": "markdown",
   "id": "b73d1b1e-bd4b-43c3-a1c8-b6c804abdb32",
   "metadata": {},
   "source": [
    "11. Write a program to find the common elements between two lists."
   ]
  },
  {
   "cell_type": "code",
   "execution_count": 15,
   "id": "372d3022-989c-49b2-afca-dc7649c14eaa",
   "metadata": {},
   "outputs": [],
   "source": [
    "def find_common_elements(list1, list2):\n",
    "    common_elements = []\n",
    "    for element in list1:\n",
    "        if element in list2:\n",
    "            common_elements.append(element)\n",
    "    return common_elements"
   ]
  },
  {
   "cell_type": "markdown",
   "id": "d7b92923-9484-4b3f-80e0-55dd0f86d083",
   "metadata": {},
   "source": [
    "12. Implement a function to check if a given string is an anagram of another string."
   ]
  },
  {
   "cell_type": "code",
   "execution_count": 16,
   "id": "b4242dac-d211-44a6-a05f-43b6dda08e42",
   "metadata": {},
   "outputs": [],
   "source": [
    "def is_anagram(str1, str2):\n",
    "    if len(str1) != len(str2):\n",
    "        return False\n",
    "\n",
    "    count = {}\n",
    "    for char in str1:\n",
    "        if char in count:\n",
    "            count[char] += 1\n",
    "        else:\n",
    "            count[char] = 1\n",
    "\n",
    "    for char in str2:\n",
    "        if char in count:\n",
    "            count[char] -= 1\n",
    "        else:\n",
    "            return False\n",
    "\n",
    "    return all(value == 0 for value in count.values())"
   ]
  },
  {
   "cell_type": "markdown",
   "id": "be54da3b-0a96-4f60-8052-49e128474bfb",
   "metadata": {},
   "source": [
    "13. Write a Python program to generate all permutations of a given string."
   ]
  },
  {
   "cell_type": "code",
   "execution_count": 17,
   "id": "dd29443d-8a9b-4321-ace4-4e9327274d7d",
   "metadata": {},
   "outputs": [],
   "source": [
    "def generate_permutations(string):\n",
    "    if len(string) == 1:\n",
    "        return [string]\n",
    "\n",
    "    permutations = []\n",
    "    for i in range(len(string)):\n",
    "        char = string[i]\n",
    "        remaining_chars = string[:i] + string[i+1:]\n",
    "\n",
    "        for sub_permutation in generate_permutations(remaining_chars):\n",
    "            permutations.append(char + sub_permutation)\n",
    "\n",
    "    return permutations"
   ]
  },
  {
   "cell_type": "markdown",
   "id": "4b0b2be0-bb7d-40ac-ab48-5dd2b0a0bcde",
   "metadata": {},
   "source": [
    "14. Implement a function to calculate the Fibonacci sequence up to a given number of terms."
   ]
  },
  {
   "cell_type": "code",
   "execution_count": 18,
   "id": "e3f1f9a1-5417-4858-8009-4fbc60115557",
   "metadata": {},
   "outputs": [],
   "source": [
    "def fibonacci_sequence(n):\n",
    "    sequence = []\n",
    "\n",
    "    if n >= 1:\n",
    "        sequence.append(0)\n",
    "\n",
    "    if n >= 2:\n",
    "        sequence.append(1)\n",
    "\n",
    "    for i in range(2, n):\n",
    "        next_number = sequence[i - 1] + sequence[i - 2]\n",
    "        sequence.append(next_number)\n",
    "\n",
    "    return sequence"
   ]
  },
  {
   "cell_type": "markdown",
   "id": "d9b8f636-320e-4f01-98a9-cad895946479",
   "metadata": {},
   "source": [
    "15. Write a program to find the median of a list of numbers."
   ]
  },
  {
   "cell_type": "code",
   "execution_count": 19,
   "id": "af1912d2-8b88-40a6-b1f9-c5bc938ebdfd",
   "metadata": {},
   "outputs": [],
   "source": [
    "def find_median(numbers):\n",
    "    sorted_numbers = sorted(numbers)\n",
    "    n = len(sorted_numbers)\n",
    "\n",
    "    if n % 2 == 0:\n",
    "        # If the number of elements is even, average the middle two elements\n",
    "        middle_index1 = n // 2\n",
    "        middle_index2 = middle_index1 - 1\n",
    "        median = (sorted_numbers[middle_index1] + sorted_numbers[middle_index2]) / 2\n",
    "    else:\n",
    "        # If the number of elements is odd, return the middle element\n",
    "        middle_index = n // 2\n",
    "        median = sorted_numbers[middle_index]\n",
    "\n",
    "    return median"
   ]
  },
  {
   "cell_type": "markdown",
   "id": "b691cef9-f927-499b-8aa4-92afdc215d11",
   "metadata": {},
   "source": [
    "16. Implement a function to check if a given list is sorted in non-decreasing order."
   ]
  },
  {
   "cell_type": "code",
   "execution_count": 20,
   "id": "e8e5c83c-858e-4626-af21-2cee2a7fc907",
   "metadata": {},
   "outputs": [],
   "source": [
    "def is_sorted(lst):\n",
    "    for i in range(1, len(lst)):\n",
    "        if lst[i] < lst[i - 1]:\n",
    "            return False\n",
    "    return True"
   ]
  },
  {
   "cell_type": "markdown",
   "id": "1ccccb68-0829-4641-826f-1a7df344d27c",
   "metadata": {},
   "source": [
    "17. Write a Python program to find the intersection of two lists."
   ]
  },
  {
   "cell_type": "code",
   "execution_count": 21,
   "id": "b11c7b02-3713-4174-900c-73c36ef3a40f",
   "metadata": {},
   "outputs": [],
   "source": [
    "def find_intersection(list1, list2):\n",
    "    set1 = set(list1)\n",
    "    set2 = set(list2)\n",
    "    intersection = set1.intersection(set2)\n",
    "    return list(intersection)"
   ]
  },
  {
   "cell_type": "markdown",
   "id": "e169cada-5e9a-4771-b49d-8ab607b8acdc",
   "metadata": {},
   "source": [
    "18. Implement a function to find the maximum subarray sum in a given list."
   ]
  },
  {
   "cell_type": "code",
   "execution_count": 22,
   "id": "cc6a8972-425a-4c85-9cc0-7d6b9c65ca27",
   "metadata": {},
   "outputs": [],
   "source": [
    "def max_subarray_sum(nums):\n",
    "    if not nums:\n",
    "        return 0\n",
    "\n",
    "    max_sum = float('-inf')\n",
    "    current_sum = 0\n",
    "\n",
    "    for num in nums:\n",
    "        current_sum = max(num, current_sum + num)\n",
    "        max_sum = max(max_sum, current_sum)\n",
    "\n",
    "    return max_sum"
   ]
  },
  {
   "cell_type": "markdown",
   "id": "7025a650-009a-48f7-9d87-3898cd9f60de",
   "metadata": {},
   "source": [
    "19. Write a program to remove all vowels from a given string."
   ]
  },
  {
   "cell_type": "code",
   "execution_count": 23,
   "id": "08492cf0-7409-436c-9922-616ff5c2a675",
   "metadata": {},
   "outputs": [],
   "source": [
    "def remove_vowels(input_string):\n",
    "    vowels = \"AEIOUaeiou\"\n",
    "    return \"\".join(char for char in input_string if char not in vowels)\n"
   ]
  },
  {
   "cell_type": "markdown",
   "id": "492af62b-242c-4c0e-9eeb-9b79e1af24db",
   "metadata": {},
   "source": [
    "20. Implement a function to reverse the order of words in a given sentence."
   ]
  },
  {
   "cell_type": "code",
   "execution_count": 24,
   "id": "3fea446c-48cf-47a7-bb9f-4cbe5136ca23",
   "metadata": {},
   "outputs": [],
   "source": [
    "def reverse_words(sentence):\n",
    "    words = sentence.split()\n",
    "    reversed_words = words[::-1]\n",
    "    reversed_sentence = \" \".join(reversed_words)\n",
    "    return reversed_sentence"
   ]
  },
  {
   "cell_type": "markdown",
   "id": "e0f3a6ac-4920-493c-80f6-be71983f5eac",
   "metadata": {},
   "source": [
    "21. Write a Python program to check if two strings are anagrams of each other."
   ]
  },
  {
   "cell_type": "code",
   "execution_count": 25,
   "id": "09f3c865-e76a-4e04-a96a-2d25bf35be81",
   "metadata": {},
   "outputs": [],
   "source": [
    "def is_anagram(str1, str2):\n",
    "    str1 = str1.lower().replace(\" \", \"\")\n",
    "    str2 = str2.lower().replace(\" \", \"\")\n",
    "\n",
    "    if len(str1) != len(str2):\n",
    "        return False\n",
    "\n",
    "    char_count = {}\n",
    "\n",
    "    for char in str1:\n",
    "        if char in char_count:\n",
    "            char_count[char] += 1\n",
    "        else:\n",
    "            char_count[char] = 1\n",
    "\n",
    "    for char in str2:\n",
    "        if char in char_count:\n",
    "            char_count[char] -= 1\n",
    "        else:\n",
    "            return False\n",
    "\n",
    "    return all(count == 0 for count in char_count.values())\n"
   ]
  },
  {
   "cell_type": "markdown",
   "id": "f8cab3b9-3198-43f3-bddc-38c7fe8f1144",
   "metadata": {},
   "source": [
    "22. Implement a function to find the first non-repeating character in a string."
   ]
  },
  {
   "cell_type": "code",
   "execution_count": 26,
   "id": "bdc39c2f-4db5-4e63-8d9c-464ae41c8017",
   "metadata": {},
   "outputs": [],
   "source": [
    "def find_first_non_repeating_char(input_string):\n",
    "    char_count = {}\n",
    "    for char in input_string:\n",
    "        if char in char_count:\n",
    "            char_count[char] += 1\n",
    "        else:\n",
    "            char_count[char] = 1\n",
    "\n",
    "    for char in input_string:\n",
    "        if char_count[char] == 1:\n",
    "            return char\n",
    "\n",
    "    return None"
   ]
  },
  {
   "cell_type": "markdown",
   "id": "3ab31e48-e8d8-43cf-b3f8-ad69efc47200",
   "metadata": {},
   "source": [
    "23. Write a program to find the prime factors of a given number."
   ]
  },
  {
   "cell_type": "code",
   "execution_count": 27,
   "id": "0b935adc-f428-4ef2-9eda-66156616f131",
   "metadata": {},
   "outputs": [],
   "source": [
    "def find_prime_factors(number):\n",
    "    prime_factors = []\n",
    "    divisor = 2\n",
    "\n",
    "    while divisor <= number:\n",
    "        if number % divisor == 0:\n",
    "            prime_factors.append(divisor)\n",
    "            number //= divisor\n",
    "        else:\n",
    "            divisor += 1\n",
    "\n",
    "    return prime_factors"
   ]
  },
  {
   "cell_type": "markdown",
   "id": "af0404ac-9480-40c9-a05d-cb03f28f9519",
   "metadata": {},
   "source": [
    "24. Implement a function to check if a given number is a power of two."
   ]
  },
  {
   "cell_type": "code",
   "execution_count": 28,
   "id": "7cdf29f3-964e-436a-9521-1d88f58cd60a",
   "metadata": {},
   "outputs": [],
   "source": [
    "def is_power_of_two(number):\n",
    "    if number <= 0:\n",
    "        return False\n",
    "\n",
    "    while number > 1:\n",
    "        if number % 2 != 0:\n",
    "            return False\n",
    "        number //= 2\n",
    "\n",
    "    return True"
   ]
  },
  {
   "cell_type": "markdown",
   "id": "b46670fe-d9cb-4796-8f61-ac2f60ddf684",
   "metadata": {},
   "source": [
    "25. Write a Python program to merge two sorted lists into a single sorted list."
   ]
  },
  {
   "cell_type": "code",
   "execution_count": 29,
   "id": "0cbb61ca-691d-4003-b2da-c2c79a084da2",
   "metadata": {},
   "outputs": [],
   "source": [
    "def merge_sorted_lists(list1, list2):\n",
    "    merged_list = []\n",
    "    i, j = 0, 0\n",
    "\n",
    "    while i < len(list1) and j < len(list2):\n",
    "        if list1[i] < list2[j]:\n",
    "            merged_list.append(list1[i])\n",
    "            i += 1\n",
    "        else:\n",
    "            merged_list.append(list2[j])\n",
    "            j += 1\n",
    "\n",
    "    # Append any remaining elements from list1 or list2\n",
    "    merged_list.extend(list1[i:])\n",
    "    merged_list.extend(list2[j:])\n",
    "\n",
    "    return merged_list"
   ]
  },
  {
   "cell_type": "markdown",
   "id": "053d35d7-cc97-4485-95bd-769309c5a953",
   "metadata": {},
   "source": [
    "26. Implement a function to find the mode of a list of numbers."
   ]
  },
  {
   "cell_type": "code",
   "execution_count": 30,
   "id": "78eddce8-d452-46dd-abac-14b61baa35f6",
   "metadata": {},
   "outputs": [],
   "source": [
    "from collections import Counter\n",
    "\n",
    "def find_mode(numbers):\n",
    "    # Count the occurrences of each number\n",
    "    number_counts = Counter(numbers)\n",
    "\n",
    "    # Find the maximum count\n",
    "    max_count = max(number_counts.values())\n",
    "\n",
    "    # Find numbers with maximum count (mode)\n",
    "    mode = [number for number, count in number_counts.items() if count == max_count]\n",
    "\n",
    "    return mode"
   ]
  },
  {
   "cell_type": "markdown",
   "id": "02fb2f96-3d67-4944-a709-5a8f2e6077c2",
   "metadata": {},
   "source": [
    "27. Write a program to find the greatest common divisor (GCD) of two numbers."
   ]
  },
  {
   "cell_type": "code",
   "execution_count": 31,
   "id": "b8b06dbc-7597-4754-ae8f-36ef929b37c3",
   "metadata": {},
   "outputs": [],
   "source": [
    "def find_gcd(num1, num2):\n",
    "    while num2 != 0:\n",
    "        temp = num2\n",
    "        num2 = num1 % num2\n",
    "        num1 = temp\n",
    "\n",
    "    return num1"
   ]
  },
  {
   "cell_type": "markdown",
   "id": "21c2c288-fa0f-4757-8d92-3a795fd022ff",
   "metadata": {},
   "source": [
    "28. Implement a function to calculate the square root of a given number."
   ]
  },
  {
   "cell_type": "code",
   "execution_count": 32,
   "id": "e15bd88d-3ad5-4506-bda3-3882803c8562",
   "metadata": {},
   "outputs": [],
   "source": [
    "def square_root(number):\n",
    "    if number < 0:\n",
    "        raise ValueError(\"Cannot calculate square root of a negative number\")\n",
    "\n",
    "    if number == 0:\n",
    "        return 0\n",
    "\n",
    "    guess = number / 2  # Initial guess\n",
    "\n",
    "    while True:\n",
    "        new_guess = (guess + number / guess) / 2  # Newton's method\n",
    "        if abs(guess - new_guess) < 1e-9:  # Check for convergence\n",
    "            break\n",
    "        guess = new_guess\n",
    "\n",
    "    return new_guess"
   ]
  },
  {
   "cell_type": "markdown",
   "id": "d2e69ec3-b629-4227-b609-a7ad35d61d59",
   "metadata": {},
   "source": [
    "29. Write a Python program to check if a given string is a valid palindrome ignoring non-alphanumeric characters."
   ]
  },
  {
   "cell_type": "code",
   "execution_count": 34,
   "id": "de8ffb98-d505-40b0-8e4e-380d126ecef4",
   "metadata": {},
   "outputs": [],
   "source": [
    "import re\n",
    "\n",
    "def is_valid_palindrome(string):\n",
    "    # Remove non-alphanumeric characters and convert to lowercase\n",
    "    alphanumeric_string = re.sub(r'[^a-zA-Z0-9]', '', string.lower())\n",
    "\n",
    "    # Check if the alphanumeric string is a palindrome\n",
    "    return alphanumeric_string == alphanumeric_string[::-1]"
   ]
  },
  {
   "cell_type": "markdown",
   "id": "7de2417e-6b2b-4ce2-9d73-d64a92ce4237",
   "metadata": {},
   "source": [
    "30. Implement a function to find the minimum element in a rotated sorted list."
   ]
  },
  {
   "cell_type": "code",
   "execution_count": 35,
   "id": "b1fe411a-d4c9-4d07-960c-4ca6ef68f69b",
   "metadata": {},
   "outputs": [],
   "source": [
    "def find_minimum(nums):\n",
    "    left = 0\n",
    "    right = len(nums) - 1\n",
    "\n",
    "    while left < right:\n",
    "        mid = left + (right - left) // 2\n",
    "\n",
    "        # Check if the middle element is greater than the rightmost element\n",
    "        if nums[mid] > nums[right]:\n",
    "            left = mid + 1\n",
    "        else:\n",
    "            right = mid\n",
    "\n",
    "    return nums[left]"
   ]
  },
  {
   "cell_type": "markdown",
   "id": "7b97122c-8e7a-483b-8bc0-8316fed43f57",
   "metadata": {},
   "source": [
    "31. Write a program to find the sum of all even numbers in a list."
   ]
  },
  {
   "cell_type": "code",
   "execution_count": 36,
   "id": "623ebadb-3c9c-4795-9f57-83007332aba6",
   "metadata": {},
   "outputs": [],
   "source": [
    "def sum_of_even_numbers(numbers):\n",
    "    even_sum = 0\n",
    "\n",
    "    for num in numbers:\n",
    "        if num % 2 == 0:\n",
    "            even_sum += num\n",
    "\n",
    "    return even_sum"
   ]
  },
  {
   "cell_type": "markdown",
   "id": "3fa5d787-8438-4cff-824a-d212a8f3fee3",
   "metadata": {},
   "source": [
    "32. Implement a function to calculate the power of a number using recursion."
   ]
  },
  {
   "cell_type": "code",
   "execution_count": 37,
   "id": "d97c8201-9ae0-4cf7-943f-3fe62b3e5a4d",
   "metadata": {},
   "outputs": [],
   "source": [
    "def power(base, exponent):\n",
    "    if exponent == 0:\n",
    "        return 1\n",
    "    elif exponent < 0:\n",
    "        return 1 / power(base, -exponent)\n",
    "    else:\n",
    "        return base * power(base, exponent - 1)"
   ]
  },
  {
   "cell_type": "markdown",
   "id": "664f371a-4ae7-4031-8d33-6d1012d77023",
   "metadata": {},
   "source": [
    "33. Write a Python program to remove duplicates from a list while preserving the order."
   ]
  },
  {
   "cell_type": "code",
   "execution_count": 38,
   "id": "b6c8d580-63a5-460f-882c-77945044c5e4",
   "metadata": {},
   "outputs": [],
   "source": [
    "def remove_duplicates(input_list):\n",
    "    unique_list = []\n",
    "    seen = set()\n",
    "\n",
    "    for item in input_list:\n",
    "        if item not in seen:\n",
    "            seen.add(item)\n",
    "            unique_list.append(item)\n",
    "\n",
    "    return unique_list"
   ]
  },
  {
   "cell_type": "markdown",
   "id": "1fb6a5f7-b013-4024-acf1-bf88db2e00eb",
   "metadata": {},
   "source": [
    "34. Implement a function to find the longest common prefix among a list of strings."
   ]
  },
  {
   "cell_type": "code",
   "execution_count": 39,
   "id": "bbf595f2-34b0-4965-b949-fd9ebc55abcc",
   "metadata": {},
   "outputs": [],
   "source": [
    "def longest_common_prefix(strs):\n",
    "    if not strs:\n",
    "        return \"\"\n",
    "\n",
    "    # Find the minimum length string in the list\n",
    "    min_length = min(len(string) for string in strs)\n",
    "\n",
    "    # Iterate character by character\n",
    "    for i in range(min_length):\n",
    "        char = strs[0][i]\n",
    "\n",
    "        # Check if all strings have the same character at the current position\n",
    "        if not all(string[i] == char for string in strs):\n",
    "            return strs[0][:i]  # Return the prefix up to the current position\n",
    "\n",
    "    return strs[0][:min_length]"
   ]
  },
  {
   "cell_type": "markdown",
   "id": "eec3fe09-a6ed-4662-9a40-04026958a705",
   "metadata": {},
   "source": [
    "35. Write a program to check if a given number is a perfect square."
   ]
  },
  {
   "cell_type": "code",
   "execution_count": 40,
   "id": "39f313e8-33c3-48c3-aa0e-7533e8c75981",
   "metadata": {},
   "outputs": [],
   "source": [
    "def is_perfect_square(num):\n",
    "    if num < 0:\n",
    "        return False\n",
    "\n",
    "    if num == 0:\n",
    "        return True\n",
    "\n",
    "    # Use the binary search approach\n",
    "    left = 1\n",
    "    right = num\n",
    "\n",
    "    while left <= right:\n",
    "        mid = left + (right - left) // 2\n",
    "        square = mid * mid\n",
    "\n",
    "        if square == num:\n",
    "            return True\n",
    "        elif square < num:\n",
    "            left = mid + 1\n",
    "        else:\n",
    "            right = mid - 1\n",
    "\n",
    "    return False\n"
   ]
  },
  {
   "cell_type": "markdown",
   "id": "6f41a67b-14cb-4dd8-8243-d284a3693b87",
   "metadata": {},
   "source": [
    "36. Implement a function to calculate the product of all elements in a list."
   ]
  },
  {
   "cell_type": "code",
   "execution_count": 41,
   "id": "21e0d383-b4de-4eeb-bc8a-f8ebcf684d00",
   "metadata": {},
   "outputs": [],
   "source": [
    "def calculate_product(numbers):\n",
    "    product = 1\n",
    "\n",
    "    for num in numbers:\n",
    "        product *= num\n",
    "\n",
    "    return product"
   ]
  },
  {
   "cell_type": "markdown",
   "id": "48045ce7-11cd-4d89-aeb0-dfe6d466d71f",
   "metadata": {},
   "source": [
    "37. Write a Python program to reverse the order of words in a sentence while preserving the word order."
   ]
  },
  {
   "cell_type": "code",
   "execution_count": 42,
   "id": "868effd6-680a-46a5-8307-6e6fb593e8ad",
   "metadata": {},
   "outputs": [],
   "source": [
    "def reverse_sentence(sentence):\n",
    "    words = sentence.split()  # Split the sentence into words\n",
    "    reversed_words = words[::-1]  # Reverse the order of words\n",
    "    reversed_sentence = ' '.join(reversed_words)  # Join the reversed words with spaces\n",
    "\n",
    "    return reversed_sentence"
   ]
  },
  {
   "cell_type": "markdown",
   "id": "bdb570fb-c423-42b4-8c76-824b0cb9bee2",
   "metadata": {},
   "source": [
    "38. Implement a function to find the missing number in a given list of consecutive numbers."
   ]
  },
  {
   "cell_type": "code",
   "execution_count": 43,
   "id": "8d1bfd78-1610-4166-be81-85f8cbcc83d3",
   "metadata": {},
   "outputs": [],
   "source": [
    "def find_missing_number(numbers):\n",
    "    n = len(numbers) + 1  # Total number of elements if no number was missing\n",
    "    expected_sum = (n * (n + 1)) // 2  # Sum of consecutive numbers from 1 to n\n",
    "    actual_sum = sum(numbers)  # Sum of the given numbers\n",
    "    missing_number = expected_sum - actual_sum\n",
    "\n",
    "    return missing_number"
   ]
  },
  {
   "cell_type": "markdown",
   "id": "22725903-dec4-4e32-8b72-15c35c29c0a7",
   "metadata": {},
   "source": [
    "39. Write a program to find the sum of digits of a given number."
   ]
  },
  {
   "cell_type": "code",
   "execution_count": 44,
   "id": "6ea8dc7a-aeb2-4a3e-ad2d-4fc0dbb571f4",
   "metadata": {},
   "outputs": [],
   "source": [
    "def sum_of_digits(number):\n",
    "    sum_digits = 0\n",
    "\n",
    "    # Convert the number to a string and iterate through each character\n",
    "    for digit in str(number):\n",
    "        sum_digits += int(digit)  # Convert the character to an integer and add it to the sum\n",
    "\n",
    "    return sum_digits"
   ]
  },
  {
   "cell_type": "markdown",
   "id": "3c71ef3c-d69a-4888-a63e-8e5b8db8aa37",
   "metadata": {},
   "source": [
    "40. Implement a function to check if a given string is a valid palindrome considering case sensitivity."
   ]
  },
  {
   "cell_type": "code",
   "execution_count": 45,
   "id": "f07cda3e-9802-41ad-b8ff-adced56e22d2",
   "metadata": {},
   "outputs": [],
   "source": [
    "def is_valid_palindrome(string):\n",
    "    # Remove whitespace and convert the string to lowercase\n",
    "    string = string.replace(\" \", \"\").lower()\n",
    "\n",
    "    # Compare the string with its reversed version\n",
    "    return string == string[::-1]"
   ]
  },
  {
   "cell_type": "markdown",
   "id": "1b52c24d-3c84-4dee-adbb-81b0817a88a9",
   "metadata": {},
   "source": [
    "41. Write a Python program to find the smallest missing positive integer in a list."
   ]
  },
  {
   "cell_type": "code",
   "execution_count": 46,
   "id": "a4e4392c-6741-4bc9-a0ed-8a5c8a2a2f1b",
   "metadata": {},
   "outputs": [],
   "source": [
    "def find_smallest_missing_positive(nums):\n",
    "    n = len(nums)\n",
    "    \n",
    "    # Step 1: Separate positive and non-positive integers\n",
    "    next_positive = 1  # Initialize the next positive integer\n",
    "    \n",
    "    # Move non-positive integers to the left side of the list\n",
    "    for i in range(n):\n",
    "        if nums[i] <= 0:\n",
    "            nums[i], nums[next_positive - 1] = nums[next_positive - 1], nums[i]\n",
    "        else:\n",
    "            next_positive += 1\n",
    "    \n",
    "    # Step 2: Mark visited indices as negative\n",
    "    for i in range(next_positive - 1):\n",
    "        num = abs(nums[i])\n",
    "        if num <= next_positive - 1:\n",
    "            nums[num - 1] = -abs(nums[num - 1])\n",
    "    \n",
    "    # Step 3: Find the first positive index\n",
    "    for i in range(next_positive - 1):\n",
    "        if nums[i] > 0:\n",
    "            return i + 1\n",
    "    \n",
    "    # Step 4: All indices from 1 to next_positive are present, so the smallest missing positive is next_positive\n",
    "    return next_positive"
   ]
  },
  {
   "cell_type": "markdown",
   "id": "505f2699-cffd-42d0-83ee-37786b23d0ec",
   "metadata": {},
   "source": [
    "42. Implement a function to find the longest palindrome substring in a given string."
   ]
  },
  {
   "cell_type": "code",
   "execution_count": 47,
   "id": "624ada2a-7af9-435a-84a1-7d57110cc951",
   "metadata": {},
   "outputs": [],
   "source": [
    "def longest_palindrome_substring(string):\n",
    "    n = len(string)\n",
    "    longest_length = 0\n",
    "    start = 0\n",
    "\n",
    "    # Helper function to expand around the center\n",
    "    def expand_around_center(left, right):\n",
    "        nonlocal longest_length, start\n",
    "\n",
    "        while left >= 0 and right < n and string[left] == string[right]:\n",
    "            left -= 1\n",
    "            right += 1\n",
    "\n",
    "        current_length = right - left - 1\n",
    "        if current_length > longest_length:\n",
    "            longest_length = current_length\n",
    "            start = left + 1\n",
    "\n",
    "    # Iterate through the string and find palindromes\n",
    "    for i in range(n):\n",
    "        expand_around_center(i, i)  # Check for odd length palindromes\n",
    "        expand_around_center(i, i + 1)  # Check for even length palindromes\n",
    "\n",
    "    return string[start:start + longest_length]"
   ]
  },
  {
   "cell_type": "markdown",
   "id": "d4549afc-393d-43fb-8b7b-090e849bc6d2",
   "metadata": {},
   "source": [
    "43. Write a program to find the number of occurrences of a given element in a list."
   ]
  },
  {
   "cell_type": "code",
   "execution_count": 48,
   "id": "0bf073fd-e27e-470e-93d9-1d6468eb8856",
   "metadata": {},
   "outputs": [],
   "source": [
    "def count_occurrences(lst, element):\n",
    "    count = 0\n",
    "\n",
    "    # Iterate through the list and increment the count for each occurrence of the element\n",
    "    for item in lst:\n",
    "        if item == element:\n",
    "            count += 1\n",
    "\n",
    "    return count"
   ]
  },
  {
   "cell_type": "markdown",
   "id": "a364210a-df31-44a5-992e-83066680dd02",
   "metadata": {},
   "source": [
    "44. Implement a function to check if a given number is a perfect number."
   ]
  },
  {
   "cell_type": "code",
   "execution_count": 49,
   "id": "da4eb90e-bcd2-4966-8be3-bf9f92d1c182",
   "metadata": {},
   "outputs": [],
   "source": [
    "def is_perfect_number(number):\n",
    "    if number <= 0:\n",
    "        return False\n",
    "\n",
    "    divisors_sum = 0\n",
    "\n",
    "    # Find the divisors of the number and calculate their sum\n",
    "    for i in range(1, number):\n",
    "        if number % i == 0:\n",
    "            divisors_sum += i\n",
    "\n",
    "    # Check if the sum of divisors is equal to the number\n",
    "    return divisors_sum == number"
   ]
  },
  {
   "cell_type": "markdown",
   "id": "b440cfc0-f904-4c7d-ae33-54a675ff7aaa",
   "metadata": {},
   "source": [
    "45. Write a Python program to remove all duplicates from a string."
   ]
  },
  {
   "cell_type": "code",
   "execution_count": 50,
   "id": "1c308192-2f84-4af2-9d43-bb3034c10122",
   "metadata": {},
   "outputs": [],
   "source": [
    "def remove_duplicates(string):\n",
    "    # Convert the string to a set to remove duplicates\n",
    "    unique_chars = set(string)\n",
    "\n",
    "    # Join the unique characters to form a new string\n",
    "    result = ''.join(unique_chars)\n",
    "\n",
    "    return result"
   ]
  },
  {
   "cell_type": "markdown",
   "id": "f91531bb-7201-4a40-9efd-4be8650f82a6",
   "metadata": {},
   "source": [
    "46. Implement a function to find the first missing positive"
   ]
  },
  {
   "cell_type": "code",
   "execution_count": 51,
   "id": "88d24afc-a809-48d2-bcea-b62481e9fabc",
   "metadata": {},
   "outputs": [],
   "source": [
    "def find_first_missing_positive(nums):\n",
    "    n = len(nums)\n",
    "\n",
    "    # Separate positive and non-positive numbers\n",
    "    i = 0\n",
    "    while i < n:\n",
    "        if 1 <= nums[i] <= n and nums[nums[i] - 1] != nums[i]:\n",
    "            nums[nums[i] - 1], nums[i] = nums[i], nums[nums[i] - 1]\n",
    "        else:\n",
    "            i += 1\n",
    "\n",
    "    # Find the first missing positive\n",
    "    for i in range(n):\n",
    "        if nums[i] != i + 1:\n",
    "            return i + 1\n",
    "\n",
    "    # If all positive numbers are present, return n + 1\n",
    "    return n + 1"
   ]
  },
  {
   "cell_type": "code",
   "execution_count": null,
   "id": "54bd6433-3573-482c-9161-a0a0343cb17a",
   "metadata": {},
   "outputs": [],
   "source": []
  }
 ],
 "metadata": {
  "kernelspec": {
   "display_name": "Python 3 (ipykernel)",
   "language": "python",
   "name": "python3"
  },
  "language_info": {
   "codemirror_mode": {
    "name": "ipython",
    "version": 3
   },
   "file_extension": ".py",
   "mimetype": "text/x-python",
   "name": "python",
   "nbconvert_exporter": "python",
   "pygments_lexer": "ipython3",
   "version": "3.10.8"
  }
 },
 "nbformat": 4,
 "nbformat_minor": 5
}
